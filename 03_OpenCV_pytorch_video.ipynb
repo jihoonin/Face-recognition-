{
  "nbformat": 4,
  "nbformat_minor": 0,
  "metadata": {
    "colab": {
      "provenance": [],
      "mount_file_id": "1L2SW06daxaGUB8hhJLiyeFPcbM0_201m",
      "authorship_tag": "ABX9TyMrxxjrzFABK0VRocu2Crhp",
      "include_colab_link": true
    },
    "kernelspec": {
      "name": "python3",
      "display_name": "Python 3"
    },
    "language_info": {
      "name": "python"
    }
  },
  "cells": [
    {
      "cell_type": "markdown",
      "metadata": {
        "id": "view-in-github",
        "colab_type": "text"
      },
      "source": [
        "<a href=\"https://colab.research.google.com/github/jihoonin/Face-recognition-/blob/main/03_OpenCV_pytorch_video.ipynb\" target=\"_parent\"><img src=\"https://colab.research.google.com/assets/colab-badge.svg\" alt=\"Open In Colab\"/></a>"
      ]
    },
    {
      "cell_type": "code",
      "metadata": {
        "id": "e89cadaf"
      },
      "source": [
        "#!pip install opencv-python\n",
        "import cv2"
      ],
      "execution_count": null,
      "outputs": []
    },
    {
      "cell_type": "code",
      "metadata": {
        "id": "92d79744",
        "colab": {
          "base_uri": "https://localhost:8080/"
        },
        "outputId": "29e647fd-301b-436e-8fd9-8f78e0a5ad09"
      },
      "source": [
        "face_cascade_path = cv2.data.haarcascades + 'haarcascade_frontalface_default.xml'\n",
        "face_cascade = cv2.CascadeClassifier(face_cascade_path)\n",
        "\n",
        "print(face_cascade)"
      ],
      "execution_count": null,
      "outputs": [
        {
          "output_type": "stream",
          "name": "stdout",
          "text": [
            "< cv2.CascadeClassifier 0x7af33c1f0e90>\n"
          ]
        }
      ]
    },
    {
      "cell_type": "code",
      "metadata": {
        "id": "6bb8e14a",
        "colab": {
          "base_uri": "https://localhost:8080/"
        },
        "outputId": "c3d68927-7e0c-4dce-d7ce-06b9aae0410c"
      },
      "source": [
        "import cv2\n",
        "print(cv2.data.haarcascades)"
      ],
      "execution_count": null,
      "outputs": [
        {
          "output_type": "stream",
          "name": "stdout",
          "text": [
            "/usr/local/lib/python3.12/dist-packages/cv2/data/\n"
          ]
        }
      ]
    },
    {
      "cell_type": "code",
      "metadata": {
        "id": "6f16548c"
      },
      "source": [
        "def detect_and_display_face(frame):\n",
        "\n",
        "    gray = cv2.cvtColor(frame, cv2.COLOR_BGR2GRAY)\n",
        "    faces = face_cascade.detectMultiScale(gray, 1.1, 4)\n",
        "\n",
        "    for (x, y, w, h) in faces:\n",
        "        cv2.rectangle(frame, (x, y), (x+w, y+h), (255, 0, 0), 2)\n",
        "        print(f\"Detected face - x: {x}, y: {y}, Width: {w}, Height: {h}\")\n",
        "\n",
        "    return frame"
      ],
      "execution_count": null,
      "outputs": []
    },
    {
      "cell_type": "code",
      "metadata": {
        "colab": {
          "base_uri": "https://localhost:8080/",
          "height": 1000
        },
        "id": "f8ff5f8d",
        "outputId": "7513e1ca-b995-49c5-a458-ff0cb91c27aa"
      },
      "source": [
        "\n",
        "video_source = '/content/drive/MyDrive/data/8090196-uhd_4096_2160_25fps.mp4'\n",
        "# video_source = 0 # 웹캠을 사용\n",
        "\n",
        "cap = cv2.VideoCapture(video_source)\n",
        "\n",
        "if not cap.isOpened():\n",
        "    print(\"Could not open video source\")\n",
        "else:\n",
        "    # Get video properties\n",
        "    frame_width = int(cap.get(cv2.CAP_PROP_FRAME_WIDTH))\n",
        "    frame_height = int(cap.get(cv2.CAP_PROP_FRAME_HEIGHT))\n",
        "    fps = cap.get(cv2.CAP_PROP_FPS)\n",
        "\n",
        "    # Define the codec and create VideoWriter object\n",
        "    # 코덱 설정 (예: XVID) 및 VideoWriter 객체 생성\n",
        "    # Colab에서는 'XVID' 코덱이 잘 작동하는 경우가 많습니다.\n",
        "    # 출력 파일 이름 및 경로를 설정하세요.\n",
        "    output_filename = 'output_video_with_faces.avi'\n",
        "    fourcc = cv2.VideoWriter_fourcc(*'XVID') # You might need to experiment with codecs like 'MJPG', 'X264' depending on your environment and desired output format\n",
        "    out = cv2.VideoWriter(output_filename, fourcc, fps, (frame_width, frame_height))\n",
        "\n",
        "    print(f\"Processing video and displaying frames. Output will be saved to {output_filename}...\")\n",
        "    frame_count = 0\n",
        "    # Process only the first N frames to give the appearance of playback\n",
        "    max_frames_to_process = 100 # Adjust this number to control the duration of the \"playback\"\n",
        "\n",
        "    from google.colab.patches import cv2_imshow # Import here for use in the loop\n",
        "\n",
        "    while True:\n",
        "        ret, frame = cap.read()\n",
        "\n",
        "        if not ret or frame_count >= max_frames_to_process:\n",
        "            print(\"Info: End of video stream, processed desired number of frames, or could not read frame.\")\n",
        "            break\n",
        "\n",
        "\n",
        "        frame_with_faces = detect_and_display_face(frame)\n",
        "\n",
        "        out.write(frame_with_faces)\n",
        "\n",
        "        cv2_imshow(frame_with_faces)\n",
        "\n",
        "\n",
        "        frame_count += 1\n",
        "        # Optional: Add a small delay if needed, but not recommended for smooth playback in Colab\n",
        "        # import time\n",
        "        # time.sleep(1/fps)\n",
        "\n",
        "    cap.release()\n",
        "    out.release()\n",
        "    print(f\"Video processing and display finished. Output saved to {output_filename}\")\n"
      ],
      "execution_count": null,
      "outputs": []
    },
    {
      "cell_type": "code",
      "source": [],
      "metadata": {
        "id": "c7TFVnNt9VGN"
      },
      "execution_count": null,
      "outputs": []
    }
  ]
}